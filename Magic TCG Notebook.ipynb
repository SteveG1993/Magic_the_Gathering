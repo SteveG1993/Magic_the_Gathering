{
 "cells": [
  {
   "cell_type": "markdown",
   "metadata": {},
   "source": [
    "## Deckbuilding Probabilities\n",
    "\n",
    "This notebook has functions that help with builder Magic the Gathering decks.\n",
    "\n",
    "Questions include:\n",
    "\n",
    "1. How many lands do should I include in a deck?\n",
    "2. What is the probability of having a specific card in you opening hand/typical game/n turns/n draws\n",
    "3. What is the likelihood of have a combo go off?\n"
   ]
  },
  {
   "cell_type": "code",
   "execution_count": null,
   "metadata": {},
   "outputs": [],
   "source": []
  },
  {
   "cell_type": "code",
   "execution_count": 126,
   "metadata": {},
   "outputs": [],
   "source": [
    "import math\n",
    "import itertools\n",
    "import operator as op\n",
    "from functools                   import reduce\n",
    "from matplotlib.ticker           import FuncFormatter\n",
    "from matplotlib.ticker          import MaxNLocator\n",
    "\n",
    "\n",
    "\n",
    "\n",
    "def draw_probability(desired_cards_array\n",
    "                    ,num_target_cards\n",
    "                    ,num_draws\n",
    "                    ,num_cards\n",
    "                    ,verbose=False):\n",
    "    retval = []\n",
    "    for x in desired_cards_array:\n",
    "        draw_combos = nCr(num_cards,num_draws)\n",
    "        other_cards_combos = nCr(num_cards-num_target_cards,num_draws-x)\n",
    "        desired_cards_combos = nCr(num_target_cards,x)\n",
    "        if verbose:\n",
    "            print('desired cards combos: {} '.format(desired_cards_combos))\n",
    "            print('other combos: {} '.format(other_cards_combos))\n",
    "            print('draw combos: {} '.format(draw_combos))\n",
    "        retval += [desired_cards_combos*other_cards_combos/draw_combos]\n",
    "    return retval\n",
    "\n",
    "\n",
    "\n",
    "def ncr(n, r):\n",
    "    r = min(r, n-r)\n",
    "    numer = reduce(op.mul, range(n, n-r, -1), 1)\n",
    "    denom = reduce(op.mul, range(1, r+1), 1)\n",
    "    return numer//denom\n",
    "\n",
    "\n",
    "\n",
    "def nCr(n,r):\n",
    "    try:\n",
    "        f = math.factorial\n",
    "        return f(n) / f(r) / f(n-r)\n",
    "    except:\n",
    "        if r > n:\n",
    "            print('You cannot choose more values than available')\n",
    "\n",
    "def autolabel(rects):\n",
    "    \"\"\"\n",
    "    Attach a text label above each bar displaying its height\n",
    "    \"\"\"\n",
    "    for rect in rects:\n",
    "        height = rect.get_height()\n",
    "        print('height',height)\n",
    "        ax.text(rect.get_x() + rect.get_width()/2., 1.05*height,\n",
    "                '%f' % float(height),\n",
    "                ha='center', va='bottom')\n",
    "\n",
    "\n",
    "#probability of drawing N target cards from a deck of N cards with N number of draws\n",
    "#return probability for each target N 0 cards, 1 card, 2 cards,N... card_list\n",
    "\n",
    "#Scenario 1\n",
    "#Chance of drawing 1,2,3,4 of the same cards\n",
    "\n",
    "#What is the chance of getting at 1,2,3,4 lands in your opening 7 cards\n",
    "#When you have N number of lands [15 - 25 lands]\n",
    "\n",
    "\n",
    "#Chance of drawing at least land\n",
    "1 - ((40/60)*(40/59)*(40/58)*(40/57))\n",
    "\n",
    "\n",
    "\n",
    "def at_least_one(num_target_cards,num_draws,deck_size,verbose=False):\n",
    "    n = deck_size - num_target_cards\n",
    "    rev_odds = 0 \n",
    "    odds = 1\n",
    "    for i in range(num_draws):\n",
    "        #print('odds',odds)\n",
    "        if verbose:\n",
    "            print('draw | deck size | odds',i,deck_size,1 - odds)\n",
    "        if n/deck_size == 1:\n",
    "            return 1\n",
    "            break\n",
    "        odds *= n/deck_size\n",
    "        deck_size -= 1\n",
    "        n = deck_size - num_target_cards\n",
    "    return 1 - odds\n",
    "\n",
    "#at_least_one(60,17)"
   ]
  },
  {
   "cell_type": "code",
   "execution_count": 125,
   "metadata": {},
   "outputs": [
    {
     "name": "stdout",
     "output_type": "stream",
     "text": [
      "draw | deck size | odds 0 60 0\n",
      "draw | deck size | odds 1 59 0.06666666666666665\n",
      "draw | deck size | odds 2 58 0.12994350282485878\n",
      "draw | deck size | odds 3 57 0.18994739918176506\n",
      "draw | deck size | odds 4 56 0.24679319573041314\n",
      "draw | deck size | odds 5 55 0.3005936817496693\n",
      "draw | deck size | odds 6 54 0.3514595958042388\n",
      "draw | deck size | odds 7 53 0.3994996257446656\n",
      "draw | deck size | odds 8 52 0.4448204087073323\n",
      "draw | deck size | odds 9 51 0.48752653111446054\n",
      "draw | deck size | odds 10 50 0.5277205286741107\n",
      "draw | deck size | odds 11 49 0.5655028863801819\n",
      "0.600972038512412\n"
     ]
    }
   ],
   "source": [
    "#Test code for at_least_one()\n",
    "print(at_least_one(num_target_cards=4,num_draws=12,deck_size=60,verbose=True))\n"
   ]
  },
  {
   "cell_type": "code",
   "execution_count": 128,
   "metadata": {},
   "outputs": [
    {
     "name": "stdout",
     "output_type": "stream",
     "text": [
      "0 0\n",
      "1 0.06666666666666665\n",
      "2 0.12994350282485878\n",
      "3 0.18994739918176506\n",
      "4 0.24679319573041314\n",
      "5 0.3005936817496693\n",
      "6 0.3514595958042388\n",
      "7 0.3994996257446656\n",
      "8 0.4448204087073323\n",
      "9 0.48752653111446054\n",
      "10 0.5277205286741107\n",
      "11 0.5655028863801819\n",
      "12 0.600972038512412\n"
     ]
    }
   ],
   "source": [
    "for num_draws in range(13):\n",
    "    print(num_draws, at_least_one(4,num_draws,60))\n",
    "    "
   ]
  },
  {
   "cell_type": "code",
   "execution_count": 122,
   "metadata": {},
   "outputs": [
    {
     "name": "stdout",
     "output_type": "stream",
     "text": [
      "What is the fewest cards do you want to draw? 0\n",
      "What is the most cards do you want to draw? 2\n",
      "How many total cards in the deck? 4\n",
      "How many copies of the desired card are in the deck? 2\n",
      "How many draws will you make? 2\n",
      "height 0.16666666666666666\n",
      "height 0.6666666666666666\n",
      "height 0.16666666666666666\n"
     ]
    },
    {
     "name": "stderr",
     "output_type": "stream",
     "text": [
      "/anaconda3/envs/dsi/lib/python3.6/site-packages/matplotlib/figure.py:418: UserWarning: matplotlib is currently using a non-GUI backend, so cannot show the figure\n",
      "  \"matplotlib is currently using a non-GUI backend, \"\n"
     ]
    },
    {
     "data": {
      "image/png": "[encoded data removed]",
      "text/plain": [
       "<matplotlib.figure.Figure at 0x10c7114e0>"
      ]
     },
     "metadata": {},
     "output_type": "display_data"
    }
   ],
   "source": [
    "import matplotlib.pyplot as plt\n",
    "from matplotlib.ticker import FuncFormatter\n",
    "from matplotlib.ticker import MaxNLocator\n",
    "from collections import namedtuple\n",
    "\n",
    "import numpy as np\n",
    "\n",
    "min_desired = 1\n",
    "max_desired = 4\n",
    "\n",
    "min_desired = int(input('What is the fewest cards do you want to draw? '))\n",
    "max_desired = int(input('What is the most cards do you want to draw? '))\n",
    "num_cards = int(input('How many total cards in the deck? '))\n",
    "num_target_cards = int(input('How many copies of the desired card are in the deck? '))\n",
    "num_draws = int(input('How many draws will you make? '))\n",
    "\n",
    "\n",
    "desired_card_range = list(range(min_desired,max_desired+1))\n",
    "\n",
    "#desired_card_range = [int(x) for x in range(min_desired,max_desired+1)]\n",
    "\n",
    "\n",
    "#plt.bar(desired_card_range,draw_probability(desired_card_range,num_target_cards=4,num_draws=5,num_cards=52,verbose=False))\n",
    "#fig, ax = plt.subplots()\n",
    "x = desired_card_range\n",
    "y = draw_probability(desired_card_range\n",
    "                                           ,num_target_cards=num_target_cards\n",
    "                                           ,num_draws=num_draws\n",
    "                                           ,num_cards=num_cards)\n",
    "\n",
    "\n",
    "\n",
    "fig = plt.figure(figsize=(5,5))\n",
    "ax = fig.add_subplot(111)\n",
    "rect1 = ax.bar(x,y,color='lightblue',linewidth=3)\n",
    "ax.xaxis.set_major_locator(MaxNLocator(integer=True))\n",
    "autolabel(rect1)\n",
    "ax.set_ylim=(0,1)\n",
    "\n",
    "ax.set(title='Chances of Drawing'\n",
    "       ,xlabel='Exact Number of Target Cards'\n",
    "      , ylabel='Probability')\n",
    "\n",
    "fig.show()\n"
   ]
  }
 ],
 "metadata": {
  "kernelspec": {
   "display_name": "Python [conda env:dsi]",
   "language": "python",
   "name": "conda-env-dsi-py"
  },
  "language_info": {
   "codemirror_mode": {
    "name": "ipython",
    "version": 3
   },
   "file_extension": ".py",
   "mimetype": "text/x-python",
   "name": "python",
   "nbconvert_exporter": "python",
   "pygments_lexer": "ipython3",
   "version": "3.6.4"
  }
 },
 "nbformat": 4,
 "nbformat_minor": 2
}
